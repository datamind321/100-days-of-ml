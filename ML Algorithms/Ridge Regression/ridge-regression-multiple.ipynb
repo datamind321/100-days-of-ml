{
 "cells": [
  {
   "cell_type": "code",
   "execution_count": 1,
   "id": "3ec0f99d",
   "metadata": {},
   "outputs": [],
   "source": [
    "from sklearn.datasets import load_diabetes\n",
    "X,y=load_diabetes(return_X_y=True)"
   ]
  },
  {
   "cell_type": "code",
   "execution_count": 2,
   "id": "17d16591",
   "metadata": {},
   "outputs": [
    {
     "data": {
      "text/plain": [
       "(442, 10)"
      ]
     },
     "execution_count": 2,
     "metadata": {},
     "output_type": "execute_result"
    }
   ],
   "source": [
    "X.shape"
   ]
  },
  {
   "cell_type": "code",
   "execution_count": 3,
   "id": "0211c43a",
   "metadata": {},
   "outputs": [],
   "source": [
    "from sklearn.model_selection import train_test_split\n",
    "X_train,X_test,y_train,y_test=train_test_split(X,y,test_size=0.2,random_state=21)"
   ]
  },
  {
   "cell_type": "code",
   "execution_count": 19,
   "id": "271f4e55",
   "metadata": {},
   "outputs": [
    {
     "data": {
      "text/plain": [
       "0.42795358656236626"
      ]
     },
     "execution_count": 19,
     "metadata": {},
     "output_type": "execute_result"
    }
   ],
   "source": [
    "from sklearn.linear_model import LinearRegression\n",
    "from sklearn.metrics import r2_score\n",
    "lr = LinearRegression()\n",
    "lr.fit(X_train,y_train)\n",
    "y_pred=lr.predict(X_test)\n",
    "r2_score(y_test,y_pred)"
   ]
  },
  {
   "cell_type": "code",
   "execution_count": 20,
   "id": "20866e33",
   "metadata": {},
   "outputs": [
    {
     "data": {
      "text/plain": [
       "0.1328956239258674"
      ]
     },
     "execution_count": 20,
     "metadata": {},
     "output_type": "execute_result"
    }
   ],
   "source": [
    "from sklearn.linear_model import Ridge\n",
    "from sklearn.metrics import r2_score\n",
    "rd = Ridge(alpha=10)\n",
    "rd.fit(X_train,y_train)\n",
    "y_pred=rd.predict(X_test)\n",
    "r2_score(y_test,y_pred) "
   ]
  },
  {
   "cell_type": "code",
   "execution_count": 25,
   "id": "4feded5b",
   "metadata": {},
   "outputs": [],
   "source": [
    "import numpy as np"
   ]
  },
  {
   "cell_type": "markdown",
   "id": "7ed5923f",
   "metadata": {},
   "source": [
    "## Chalo apna banate hain...."
   ]
  },
  {
   "cell_type": "code",
   "execution_count": 26,
   "id": "f89bcbd2",
   "metadata": {},
   "outputs": [],
   "source": [
    "class MRD:\n",
    "    def __init__(self,alpha):\n",
    "        self.alpha=alpha\n",
    "        self.coef_=None\n",
    "        self.intercept_=None\n",
    "    def fit(self,X_train,y_train):\n",
    "        X_train=np.insert(X_train,0,1,axis=1)\n",
    "        I = np.identity(X_train.shape[1])\n",
    "        for i in range(X_train.shape[0]):\n",
    "            result = np.linalg.inv(np.dot(X_train.T,X_train) + self.alpha * I).dot(X_train.T).dot(y_train)\n",
    "        self.intercept_=result[0]\n",
    "        self.coef_=result[1:]\n",
    "        print(self.coef_,self.intercept_)\n",
    "    def predict(self,X_test):\n",
    "        return np.dot(X_test,self.coef_) + self.intercept_"
   ]
  },
  {
   "cell_type": "code",
   "execution_count": 27,
   "id": "f3ece03e",
   "metadata": {},
   "outputs": [],
   "source": [
    "mrd = MRD(alpha=0)"
   ]
  },
  {
   "cell_type": "code",
   "execution_count": 28,
   "id": "b6207a5e",
   "metadata": {
    "scrolled": true
   },
   "outputs": [
    {
     "name": "stdout",
     "output_type": "stream",
     "text": [
      "[ -18.20584205 -242.8646036   504.58268006  344.05222055 -790.96918634\n",
      "  553.46023288   63.55289926  153.63208395  729.69503903   59.87447832] 151.648231355704\n"
     ]
    }
   ],
   "source": [
    "mrd.fit(X_train,y_train)"
   ]
  },
  {
   "cell_type": "code",
   "execution_count": 29,
   "id": "6c23b5f8",
   "metadata": {},
   "outputs": [],
   "source": [
    "y_pred=mrd.predict(X_test)"
   ]
  },
  {
   "cell_type": "code",
   "execution_count": 30,
   "id": "5bb2c22b",
   "metadata": {},
   "outputs": [
    {
     "data": {
      "text/plain": [
       "0.4279535865623666"
      ]
     },
     "execution_count": 30,
     "metadata": {},
     "output_type": "execute_result"
    }
   ],
   "source": [
    "r2_score(y_test,y_pred)"
   ]
  }
 ],
 "metadata": {
  "kernelspec": {
   "display_name": "Python 3",
   "language": "python",
   "name": "python3"
  },
  "language_info": {
   "codemirror_mode": {
    "name": "ipython",
    "version": 3
   },
   "file_extension": ".py",
   "mimetype": "text/x-python",
   "name": "python",
   "nbconvert_exporter": "python",
   "pygments_lexer": "ipython3",
   "version": "3.8.8"
  }
 },
 "nbformat": 4,
 "nbformat_minor": 5
}
