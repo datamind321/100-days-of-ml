{
 "cells": [
  {
   "cell_type": "markdown",
   "id": "a63aa805",
   "metadata": {},
   "source": [
    "# 1. How Are Coeffiecient Effected ?"
   ]
  },
  {
   "cell_type": "code",
   "execution_count": 6,
   "id": "b4e1aa6a",
   "metadata": {},
   "outputs": [],
   "source": [
    "from sklearn.datasets import load_diabetes\n",
    "import numpy as np\n",
    "import pandas as pd\n",
    "import matplotlib.pyplot as plt"
   ]
  },
  {
   "cell_type": "code",
   "execution_count": 7,
   "id": "11605bb9",
   "metadata": {},
   "outputs": [],
   "source": [
    "data = load_diabetes()"
   ]
  },
  {
   "cell_type": "code",
   "execution_count": 8,
   "id": "a0935846",
   "metadata": {},
   "outputs": [],
   "source": [
    "df = pd.DataFrame(data.data,columns=data.feature_names)\n",
    "df['TARGET'] = data.target"
   ]
  },
  {
   "cell_type": "code",
   "execution_count": 9,
   "id": "050be35b",
   "metadata": {},
   "outputs": [
    {
     "data": {
      "text/html": [
       "<div>\n",
       "<style scoped>\n",
       "    .dataframe tbody tr th:only-of-type {\n",
       "        vertical-align: middle;\n",
       "    }\n",
       "\n",
       "    .dataframe tbody tr th {\n",
       "        vertical-align: top;\n",
       "    }\n",
       "\n",
       "    .dataframe thead th {\n",
       "        text-align: right;\n",
       "    }\n",
       "</style>\n",
       "<table border=\"1\" class=\"dataframe\">\n",
       "  <thead>\n",
       "    <tr style=\"text-align: right;\">\n",
       "      <th></th>\n",
       "      <th>age</th>\n",
       "      <th>sex</th>\n",
       "      <th>bmi</th>\n",
       "      <th>bp</th>\n",
       "      <th>s1</th>\n",
       "      <th>s2</th>\n",
       "      <th>s3</th>\n",
       "      <th>s4</th>\n",
       "      <th>s5</th>\n",
       "      <th>s6</th>\n",
       "      <th>TARGET</th>\n",
       "    </tr>\n",
       "  </thead>\n",
       "  <tbody>\n",
       "    <tr>\n",
       "      <th>0</th>\n",
       "      <td>0.038076</td>\n",
       "      <td>0.050680</td>\n",
       "      <td>0.061696</td>\n",
       "      <td>0.021872</td>\n",
       "      <td>-0.044223</td>\n",
       "      <td>-0.034821</td>\n",
       "      <td>-0.043401</td>\n",
       "      <td>-0.002592</td>\n",
       "      <td>0.019908</td>\n",
       "      <td>-0.017646</td>\n",
       "      <td>151.0</td>\n",
       "    </tr>\n",
       "    <tr>\n",
       "      <th>1</th>\n",
       "      <td>-0.001882</td>\n",
       "      <td>-0.044642</td>\n",
       "      <td>-0.051474</td>\n",
       "      <td>-0.026328</td>\n",
       "      <td>-0.008449</td>\n",
       "      <td>-0.019163</td>\n",
       "      <td>0.074412</td>\n",
       "      <td>-0.039493</td>\n",
       "      <td>-0.068330</td>\n",
       "      <td>-0.092204</td>\n",
       "      <td>75.0</td>\n",
       "    </tr>\n",
       "    <tr>\n",
       "      <th>2</th>\n",
       "      <td>0.085299</td>\n",
       "      <td>0.050680</td>\n",
       "      <td>0.044451</td>\n",
       "      <td>-0.005671</td>\n",
       "      <td>-0.045599</td>\n",
       "      <td>-0.034194</td>\n",
       "      <td>-0.032356</td>\n",
       "      <td>-0.002592</td>\n",
       "      <td>0.002864</td>\n",
       "      <td>-0.025930</td>\n",
       "      <td>141.0</td>\n",
       "    </tr>\n",
       "    <tr>\n",
       "      <th>3</th>\n",
       "      <td>-0.089063</td>\n",
       "      <td>-0.044642</td>\n",
       "      <td>-0.011595</td>\n",
       "      <td>-0.036656</td>\n",
       "      <td>0.012191</td>\n",
       "      <td>0.024991</td>\n",
       "      <td>-0.036038</td>\n",
       "      <td>0.034309</td>\n",
       "      <td>0.022692</td>\n",
       "      <td>-0.009362</td>\n",
       "      <td>206.0</td>\n",
       "    </tr>\n",
       "    <tr>\n",
       "      <th>4</th>\n",
       "      <td>0.005383</td>\n",
       "      <td>-0.044642</td>\n",
       "      <td>-0.036385</td>\n",
       "      <td>0.021872</td>\n",
       "      <td>0.003935</td>\n",
       "      <td>0.015596</td>\n",
       "      <td>0.008142</td>\n",
       "      <td>-0.002592</td>\n",
       "      <td>-0.031991</td>\n",
       "      <td>-0.046641</td>\n",
       "      <td>135.0</td>\n",
       "    </tr>\n",
       "  </tbody>\n",
       "</table>\n",
       "</div>"
      ],
      "text/plain": [
       "        age       sex       bmi        bp        s1        s2        s3  \\\n",
       "0  0.038076  0.050680  0.061696  0.021872 -0.044223 -0.034821 -0.043401   \n",
       "1 -0.001882 -0.044642 -0.051474 -0.026328 -0.008449 -0.019163  0.074412   \n",
       "2  0.085299  0.050680  0.044451 -0.005671 -0.045599 -0.034194 -0.032356   \n",
       "3 -0.089063 -0.044642 -0.011595 -0.036656  0.012191  0.024991 -0.036038   \n",
       "4  0.005383 -0.044642 -0.036385  0.021872  0.003935  0.015596  0.008142   \n",
       "\n",
       "         s4        s5        s6  TARGET  \n",
       "0 -0.002592  0.019908 -0.017646   151.0  \n",
       "1 -0.039493 -0.068330 -0.092204    75.0  \n",
       "2 -0.002592  0.002864 -0.025930   141.0  \n",
       "3  0.034309  0.022692 -0.009362   206.0  \n",
       "4 -0.002592 -0.031991 -0.046641   135.0  "
      ]
     },
     "execution_count": 9,
     "metadata": {},
     "output_type": "execute_result"
    }
   ],
   "source": [
    "df.head()"
   ]
  },
  {
   "cell_type": "code",
   "execution_count": 10,
   "id": "07fba410",
   "metadata": {},
   "outputs": [
    {
     "data": {
      "text/plain": [
       "(442, 11)"
      ]
     },
     "execution_count": 10,
     "metadata": {},
     "output_type": "execute_result"
    }
   ],
   "source": [
    "df.shape"
   ]
  },
  {
   "cell_type": "code",
   "execution_count": 11,
   "id": "682c6e10",
   "metadata": {},
   "outputs": [],
   "source": [
    "from sklearn.model_selection import train_test_split\n",
    "X_train,X_test,y_train,y_test=train_test_split(data.data,data.target,test_size=0.2,random_state=21)"
   ]
  },
  {
   "cell_type": "code",
   "execution_count": 12,
   "id": "50bbf16c",
   "metadata": {},
   "outputs": [],
   "source": [
    "from sklearn.linear_model import Ridge\n",
    "from sklearn.metrics import r2_score"
   ]
  },
  {
   "cell_type": "code",
   "execution_count": 13,
   "id": "d25877a2",
   "metadata": {},
   "outputs": [],
   "source": [
    "coefs = []\n",
    "r2_scores = []\n",
    "\n",
    "for i in [0,10,100,1000]:\n",
    "    reg = Ridge(alpha=i)\n",
    "    reg.fit(X_train,y_train)\n",
    "    \n",
    "    coefs.append(reg.coef_.tolist())\n",
    "    y_pred = reg.predict(X_test)\n",
    "    r2_scores.append(r2_score(y_test,y_pred))"
   ]
  },
  {
   "cell_type": "code",
   "execution_count": 14,
   "id": "2e1320ae",
   "metadata": {},
   "outputs": [
    {
     "data": {
      "image/png": "[encoded data removed]",
      "text/plain": [
       "<Figure size 1008x648 with 4 Axes>"
      ]
     },
     "metadata": {
      "needs_background": "light"
     },
     "output_type": "display_data"
    }
   ],
   "source": [
    "plt.figure(figsize=(14,9))\n",
    "plt.subplot(221)\n",
    "plt.bar(data.feature_names,coefs[0])\n",
    "plt.title('Alpha = 0 ,r2_score = {}'.format(round(r2_scores[0],2)))\n",
    "\n",
    "plt.subplot(222)\n",
    "plt.bar(data.feature_names,coefs[1])\n",
    "plt.title('Alpha = 10 ,r2_score = {}'.format(round(r2_scores[1],2)))\n",
    "\n",
    "plt.subplot(223)\n",
    "plt.bar(data.feature_names,coefs[2])\n",
    "plt.title('Alpha = 100 ,r2_score = {}'.format(round(r2_scores[2],2)))\n",
    "\n",
    "plt.subplot(224)\n",
    "plt.bar(data.feature_names,coefs[3])\n",
    "plt.title('Alpha = 1000 ,r2_score = {}'.format(round(r2_scores[3],2)))\n",
    "\n",
    "plt.show()"
   ]
  },
  {
   "cell_type": "markdown",
   "id": "bd674443",
   "metadata": {},
   "source": [
    "# 2. Higher Coefficients are affected more"
   ]
  },
  {
   "cell_type": "code",
   "execution_count": 15,
   "id": "f1f3efd8",
   "metadata": {},
   "outputs": [],
   "source": [
    "alphas = [0,0.0001,0.001,0.01,0.1,1,10,100,1000,10000]\n",
    "\n",
    "coefs = []\n",
    "\n",
    "for i in alphas:\n",
    "    reg = Ridge(alpha=i)\n",
    "    reg.fit(X_train,y_train)\n",
    "    \n",
    "    coefs.append(reg.coef_.tolist())"
   ]
  },
  {
   "cell_type": "code",
   "execution_count": 16,
   "id": "fd48097a",
   "metadata": {},
   "outputs": [],
   "source": [
    "input_array = np.array(coefs)"
   ]
  },
  {
   "cell_type": "code",
   "execution_count": 17,
   "id": "b249fb12",
   "metadata": {},
   "outputs": [
    {
     "data": {
      "text/html": [
       "<div>\n",
       "<style scoped>\n",
       "    .dataframe tbody tr th:only-of-type {\n",
       "        vertical-align: middle;\n",
       "    }\n",
       "\n",
       "    .dataframe tbody tr th {\n",
       "        vertical-align: top;\n",
       "    }\n",
       "\n",
       "    .dataframe thead th {\n",
       "        text-align: right;\n",
       "    }\n",
       "</style>\n",
       "<table border=\"1\" class=\"dataframe\">\n",
       "  <thead>\n",
       "    <tr style=\"text-align: right;\">\n",
       "      <th></th>\n",
       "      <th>age</th>\n",
       "      <th>sex</th>\n",
       "      <th>bmi</th>\n",
       "      <th>bp</th>\n",
       "      <th>s1</th>\n",
       "      <th>s2</th>\n",
       "      <th>s3</th>\n",
       "      <th>s4</th>\n",
       "      <th>s5</th>\n",
       "      <th>s6</th>\n",
       "    </tr>\n",
       "    <tr>\n",
       "      <th>alpha</th>\n",
       "      <th></th>\n",
       "      <th></th>\n",
       "      <th></th>\n",
       "      <th></th>\n",
       "      <th></th>\n",
       "      <th></th>\n",
       "      <th></th>\n",
       "      <th></th>\n",
       "      <th></th>\n",
       "      <th></th>\n",
       "    </tr>\n",
       "  </thead>\n",
       "  <tbody>\n",
       "    <tr>\n",
       "      <th>0.0000</th>\n",
       "      <td>-18.205842</td>\n",
       "      <td>-242.864604</td>\n",
       "      <td>504.582680</td>\n",
       "      <td>344.052221</td>\n",
       "      <td>-790.969186</td>\n",
       "      <td>553.460233</td>\n",
       "      <td>63.552899</td>\n",
       "      <td>153.632084</td>\n",
       "      <td>729.695039</td>\n",
       "      <td>59.874478</td>\n",
       "    </tr>\n",
       "    <tr>\n",
       "      <th>0.0001</th>\n",
       "      <td>-18.138619</td>\n",
       "      <td>-242.739118</td>\n",
       "      <td>504.761792</td>\n",
       "      <td>343.987891</td>\n",
       "      <td>-779.562079</td>\n",
       "      <td>544.339446</td>\n",
       "      <td>58.589135</td>\n",
       "      <td>152.322763</td>\n",
       "      <td>725.211276</td>\n",
       "      <td>59.945421</td>\n",
       "    </tr>\n",
       "    <tr>\n",
       "      <th>0.0010</th>\n",
       "      <td>-17.595226</td>\n",
       "      <td>-241.708993</td>\n",
       "      <td>506.112551</td>\n",
       "      <td>343.455975</td>\n",
       "      <td>-690.189760</td>\n",
       "      <td>472.838576</td>\n",
       "      <td>19.811682</td>\n",
       "      <td>142.220895</td>\n",
       "      <td>689.994002</td>\n",
       "      <td>60.529603</td>\n",
       "    </tr>\n",
       "    <tr>\n",
       "      <th>0.0100</th>\n",
       "      <td>-14.621780</td>\n",
       "      <td>-235.385209</td>\n",
       "      <td>509.203117</td>\n",
       "      <td>339.993087</td>\n",
       "      <td>-325.416919</td>\n",
       "      <td>179.581250</td>\n",
       "      <td>-133.896543</td>\n",
       "      <td>107.152652</td>\n",
       "      <td>542.552439</td>\n",
       "      <td>64.182844</td>\n",
       "    </tr>\n",
       "    <tr>\n",
       "      <th>0.1000</th>\n",
       "      <td>-2.154285</td>\n",
       "      <td>-201.417373</td>\n",
       "      <td>475.028596</td>\n",
       "      <td>317.659248</td>\n",
       "      <td>-56.451781</td>\n",
       "      <td>-32.358645</td>\n",
       "      <td>-211.984162</td>\n",
       "      <td>117.779581</td>\n",
       "      <td>397.306600</td>\n",
       "      <td>82.428438</td>\n",
       "    </tr>\n",
       "    <tr>\n",
       "      <th>1.0000</th>\n",
       "      <td>33.820876</td>\n",
       "      <td>-68.194071</td>\n",
       "      <td>280.709901</td>\n",
       "      <td>204.031938</td>\n",
       "      <td>21.135812</td>\n",
       "      <td>-3.575756</td>\n",
       "      <td>-148.656213</td>\n",
       "      <td>121.142832</td>\n",
       "      <td>232.623141</td>\n",
       "      <td>106.843018</td>\n",
       "    </tr>\n",
       "    <tr>\n",
       "      <th>10.0000</th>\n",
       "      <td>18.462476</td>\n",
       "      <td>0.554187</td>\n",
       "      <td>64.876440</td>\n",
       "      <td>52.239752</td>\n",
       "      <td>20.337404</td>\n",
       "      <td>15.881620</td>\n",
       "      <td>-41.622729</td>\n",
       "      <td>43.521678</td>\n",
       "      <td>59.599400</td>\n",
       "      <td>38.428953</td>\n",
       "    </tr>\n",
       "    <tr>\n",
       "      <th>100.0000</th>\n",
       "      <td>2.517139</td>\n",
       "      <td>0.552122</td>\n",
       "      <td>7.742084</td>\n",
       "      <td>6.376950</td>\n",
       "      <td>2.969061</td>\n",
       "      <td>2.495826</td>\n",
       "      <td>-5.187319</td>\n",
       "      <td>5.702523</td>\n",
       "      <td>7.327060</td>\n",
       "      <td>4.964220</td>\n",
       "    </tr>\n",
       "    <tr>\n",
       "      <th>1000.0000</th>\n",
       "      <td>0.260643</td>\n",
       "      <td>0.062093</td>\n",
       "      <td>0.790282</td>\n",
       "      <td>0.652599</td>\n",
       "      <td>0.309679</td>\n",
       "      <td>0.262087</td>\n",
       "      <td>-0.532107</td>\n",
       "      <td>0.588220</td>\n",
       "      <td>0.750536</td>\n",
       "      <td>0.511156</td>\n",
       "    </tr>\n",
       "    <tr>\n",
       "      <th>10000.0000</th>\n",
       "      <td>0.026157</td>\n",
       "      <td>0.006281</td>\n",
       "      <td>0.079194</td>\n",
       "      <td>0.065413</td>\n",
       "      <td>0.031100</td>\n",
       "      <td>0.026338</td>\n",
       "      <td>-0.053349</td>\n",
       "      <td>0.059008</td>\n",
       "      <td>0.075237</td>\n",
       "      <td>0.051268</td>\n",
       "    </tr>\n",
       "  </tbody>\n",
       "</table>\n",
       "</div>"
      ],
      "text/plain": [
       "                  age         sex         bmi          bp          s1  \\\n",
       "alpha                                                                   \n",
       "0.0000     -18.205842 -242.864604  504.582680  344.052221 -790.969186   \n",
       "0.0001     -18.138619 -242.739118  504.761792  343.987891 -779.562079   \n",
       "0.0010     -17.595226 -241.708993  506.112551  343.455975 -690.189760   \n",
       "0.0100     -14.621780 -235.385209  509.203117  339.993087 -325.416919   \n",
       "0.1000      -2.154285 -201.417373  475.028596  317.659248  -56.451781   \n",
       "1.0000      33.820876  -68.194071  280.709901  204.031938   21.135812   \n",
       "10.0000     18.462476    0.554187   64.876440   52.239752   20.337404   \n",
       "100.0000     2.517139    0.552122    7.742084    6.376950    2.969061   \n",
       "1000.0000    0.260643    0.062093    0.790282    0.652599    0.309679   \n",
       "10000.0000   0.026157    0.006281    0.079194    0.065413    0.031100   \n",
       "\n",
       "                    s2          s3          s4          s5          s6  \n",
       "alpha                                                                   \n",
       "0.0000      553.460233   63.552899  153.632084  729.695039   59.874478  \n",
       "0.0001      544.339446   58.589135  152.322763  725.211276   59.945421  \n",
       "0.0010      472.838576   19.811682  142.220895  689.994002   60.529603  \n",
       "0.0100      179.581250 -133.896543  107.152652  542.552439   64.182844  \n",
       "0.1000      -32.358645 -211.984162  117.779581  397.306600   82.428438  \n",
       "1.0000       -3.575756 -148.656213  121.142832  232.623141  106.843018  \n",
       "10.0000      15.881620  -41.622729   43.521678   59.599400   38.428953  \n",
       "100.0000      2.495826   -5.187319    5.702523    7.327060    4.964220  \n",
       "1000.0000     0.262087   -0.532107    0.588220    0.750536    0.511156  \n",
       "10000.0000    0.026338   -0.053349    0.059008    0.075237    0.051268  "
      ]
     },
     "execution_count": 17,
     "metadata": {},
     "output_type": "execute_result"
    }
   ],
   "source": [
    "coef_df = pd.DataFrame(input_array,columns=data.feature_names)\n",
    "coef_df['alpha'] = alphas\n",
    "coef_df.set_index('alpha')"
   ]
  },
  {
   "cell_type": "code",
   "execution_count": 18,
   "id": "68b6e137",
   "metadata": {},
   "outputs": [],
   "source": [
    "alphas = [0,0.0001,0.0005,0.001,0.005,0.1,0.5,1,5,10]\n",
    "\n",
    "coefs = []\n",
    "\n",
    "for i in alphas:\n",
    "    reg = Ridge(alpha=i)\n",
    "    reg.fit(X_train,y_train)\n",
    "    \n",
    "    coefs.append(reg.coef_.tolist())"
   ]
  },
  {
   "cell_type": "code",
   "execution_count": 19,
   "id": "aba6e9d8",
   "metadata": {},
   "outputs": [],
   "source": [
    "input_array = np.array(coefs).T"
   ]
  },
  {
   "cell_type": "code",
   "execution_count": 20,
   "id": "36b0f8c5",
   "metadata": {},
   "outputs": [
    {
     "data": {
      "text/plain": [
       "<matplotlib.legend.Legend at 0x223b363dca0>"
      ]
     },
     "execution_count": 20,
     "metadata": {},
     "output_type": "execute_result"
    },
    {
     "data": {
      "image/png": "[encoded data removed]",
      "text/plain": [
       "<Figure size 1080x576 with 1 Axes>"
      ]
     },
     "metadata": {
      "needs_background": "light"
     },
     "output_type": "display_data"
    }
   ],
   "source": [
    "plt.figure(figsize=(15,8))\n",
    "plt.plot(alphas,np.zeros(len(alphas)),color='black',linewidth=5)\n",
    "for i in range(input_array.shape[0]):\n",
    "    plt.plot(alphas,input_array[i],label=data.feature_names[i])\n",
    "plt.legend()"
   ]
  },
  {
   "cell_type": "markdown",
   "id": "20e52d4c",
   "metadata": {},
   "source": [
    "# 3.  Impact on Bias and Variance"
   ]
  },
  {
   "cell_type": "code",
   "execution_count": 21,
   "id": "f584bfa4",
   "metadata": {},
   "outputs": [
    {
     "data": {
      "image/png": "[encoded data removed]",
      "text/plain": [
       "<Figure size 432x288 with 1 Axes>"
      ]
     },
     "metadata": {
      "needs_background": "light"
     },
     "output_type": "display_data"
    }
   ],
   "source": [
    "m = 100\n",
    "X = 5 * np.random.rand(m, 1) - 2\n",
    "y = 0.7 * X ** 2 - 2 * X + 3 + np.random.randn(m, 1)\n",
    "\n",
    "plt.scatter(X, y)\n",
    "plt.show()"
   ]
  },
  {
   "cell_type": "code",
   "execution_count": 22,
   "id": "b3c78539",
   "metadata": {},
   "outputs": [],
   "source": [
    "X_train,X_test,y_train,y_test = train_test_split(X.reshape(100,1),y.reshape(100),test_size=0.2,random_state=2)"
   ]
  },
  {
   "cell_type": "code",
   "execution_count": 23,
   "id": "6b037578",
   "metadata": {},
   "outputs": [],
   "source": [
    "from sklearn.preprocessing import PolynomialFeatures\n",
    "poly = PolynomialFeatures(degree=15)\n",
    "\n",
    "X_train = poly.fit_transform(X_train)\n",
    "X_test = poly.transform(X_test)"
   ]
  },
  {
   "cell_type": "code",
   "execution_count": 24,
   "id": "b58d6426",
   "metadata": {},
   "outputs": [],
   "source": [
    "from mlxtend.evaluate import bias_variance_decomp\n",
    "\n",
    "alphas = np.linspace(0,30,100)\n",
    "\n",
    "loss = []\n",
    "bias = []\n",
    "variance = []\n",
    "\n",
    "for i in alphas:\n",
    "    reg = Ridge(alpha=i)\n",
    "    avg_expected_loss, avg_bias, avg_var = bias_variance_decomp(\n",
    "        reg, X_train, y_train, X_test, y_test, \n",
    "        loss='mse',\n",
    "        random_seed=123)\n",
    "    loss.append(avg_expected_loss)\n",
    "    bias.append(avg_bias)\n",
    "    variance.append(avg_var)"
   ]
  },
  {
   "cell_type": "code",
   "execution_count": 25,
   "id": "9b5e257a",
   "metadata": {},
   "outputs": [
    {
     "data": {
      "text/plain": [
       "<matplotlib.legend.Legend at 0x223af2d8ac0>"
      ]
     },
     "execution_count": 25,
     "metadata": {},
     "output_type": "execute_result"
    },
    {
     "data": {
      "image/png": "[encoded data removed]",
      "text/plain": [
       "<Figure size 432x288 with 1 Axes>"
      ]
     },
     "metadata": {
      "needs_background": "light"
     },
     "output_type": "display_data"
    }
   ],
   "source": [
    "plt.plot(alphas,loss,label='loss')\n",
    "plt.plot(alphas,bias,label='Bias')\n",
    "plt.plot(alphas,variance,label='Variance')\n",
    "plt.ylim(0,5)\n",
    "plt.xlabel('Alpha')\n",
    "plt.legend()"
   ]
  },
  {
   "cell_type": "markdown",
   "id": "c9bbea74",
   "metadata": {},
   "source": [
    "# 4.Effect of Regularization on Loss Function"
   ]
  },
  {
   "cell_type": "code",
   "execution_count": 26,
   "id": "047717a4",
   "metadata": {},
   "outputs": [
    {
     "name": "stdout",
     "output_type": "stream",
     "text": [
      "[27.82809103]\n",
      "-2.29474455867698\n"
     ]
    },
    {
     "data": {
      "image/png": "[encoded data removed]",
      "text/plain": [
       "<Figure size 432x288 with 1 Axes>"
      ]
     },
     "metadata": {
      "needs_background": "light"
     },
     "output_type": "display_data"
    }
   ],
   "source": [
    "from sklearn.datasets import make_regression\n",
    "\n",
    "X,y = make_regression(n_samples=100, n_features=1, n_informative=1, n_targets=1,noise=20,random_state=13)\n",
    "\n",
    "plt.scatter(X,y)\n",
    "\n",
    "from sklearn.linear_model import LinearRegression\n",
    "\n",
    "reg = LinearRegression()\n",
    "reg.fit(X,y)\n",
    "print(reg.coef_)\n",
    "print(reg.intercept_)"
   ]
  },
  {
   "cell_type": "code",
   "execution_count": 27,
   "id": "8320e123",
   "metadata": {},
   "outputs": [],
   "source": [
    "def cal_loss(m,alpha):\n",
    "    return np.sum((y - m*X.ravel() + 2.29)**2) + alpha*m*m"
   ]
  },
  {
   "cell_type": "code",
   "execution_count": 28,
   "id": "ff658ce3",
   "metadata": {},
   "outputs": [],
   "source": [
    "def predict(m):\n",
    "    return m*X - 2.29"
   ]
  },
  {
   "cell_type": "code",
   "execution_count": 29,
   "id": "006bf1a9",
   "metadata": {
    "scrolled": false
   },
   "outputs": [
    {
     "data": {
      "image/png": "[encoded data removed]",
      "text/plain": [
       "<Figure size 288x432 with 1 Axes>"
      ]
     },
     "metadata": {
      "needs_background": "light"
     },
     "output_type": "display_data"
    }
   ],
   "source": [
    "m = np.linspace(-45,100,100)\n",
    "plt.figure(figsize=(4,6))\n",
    "for j in [0,10,20,30,40,50,100]:\n",
    "    loss = []\n",
    "    for i in range(m.shape[0]):\n",
    "        loss_i = cal_loss(m[i],j)\n",
    "        loss.append(loss_i)\n",
    "    plt.plot(m,loss,label='alpha = {}'.format(j))\n",
    "plt.legend()\n",
    "plt.xlabel('Alpha')\n",
    "plt.ylabel('Loss')\n",
    "plt.show()"
   ]
  }
 ],
 "metadata": {
  "kernelspec": {
   "display_name": "Python 3",
   "language": "python",
   "name": "python3"
  },
  "language_info": {
   "codemirror_mode": {
    "name": "ipython",
    "version": 3
   },
   "file_extension": ".py",
   "mimetype": "text/x-python",
   "name": "python",
   "nbconvert_exporter": "python",
   "pygments_lexer": "ipython3",
   "version": "3.8.8"
  }
 },
 "nbformat": 4,
 "nbformat_minor": 5
}
