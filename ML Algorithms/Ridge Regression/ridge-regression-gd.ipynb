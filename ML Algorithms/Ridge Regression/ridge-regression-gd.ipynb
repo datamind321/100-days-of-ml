{
 "cells": [
  {
   "cell_type": "code",
   "execution_count": 1,
   "id": "e0124da0",
   "metadata": {},
   "outputs": [],
   "source": [
    "from sklearn.datasets import load_diabetes\n",
    "from sklearn.metrics import r2_score\n",
    "import numpy as np"
   ]
  },
  {
   "cell_type": "code",
   "execution_count": 2,
   "id": "5b3e3be8",
   "metadata": {},
   "outputs": [],
   "source": [
    "X,y = load_diabetes(return_X_y=True)"
   ]
  },
  {
   "cell_type": "code",
   "execution_count": 3,
   "id": "242bb966",
   "metadata": {},
   "outputs": [],
   "source": [
    "from sklearn.model_selection import train_test_split\n",
    "X_train,X_test,y_train,y_test=train_test_split(X,y,test_size=0.2,random_state=21)"
   ]
  },
  {
   "cell_type": "code",
   "execution_count": 4,
   "id": "3aaba03f",
   "metadata": {},
   "outputs": [],
   "source": [
    "from sklearn.linear_model import SGDRegressor\n",
    "reg = SGDRegressor(penalty='l2',max_iter=500,learning_rate='constant',alpha=0.0001,eta0=0.1)"
   ]
  },
  {
   "cell_type": "code",
   "execution_count": 5,
   "id": "9c3cc8a2",
   "metadata": {},
   "outputs": [
    {
     "name": "stdout",
     "output_type": "stream",
     "text": [
      "0.305496616974662\n",
      "[  -3.71257431 -215.48026583  494.11522596  328.65543944  -32.64879421\n",
      "  -69.29664438 -219.40390336  132.22180631  395.92071057   89.77058744]\n",
      "[128.41220677]\n"
     ]
    }
   ],
   "source": [
    "reg.fit(X_train,y_train)\n",
    "\n",
    "y_pred=reg.predict(X_test)\n",
    "print(r2_score(y_test,y_pred))\n",
    "print(reg.coef_)\n",
    "print(reg.intercept_)"
   ]
  },
  {
   "cell_type": "code",
   "execution_count": 6,
   "id": "95600d1b",
   "metadata": {},
   "outputs": [],
   "source": [
    "from sklearn.linear_model import Ridge\n",
    "rd = Ridge(alpha=0.0001,max_iter=500,solver='sparse_cg')"
   ]
  },
  {
   "cell_type": "code",
   "execution_count": 7,
   "id": "78995da6",
   "metadata": {},
   "outputs": [
    {
     "name": "stdout",
     "output_type": "stream",
     "text": [
      "0.4279676377190236\n",
      "[ -18.13862091 -242.73912012  504.76178915  343.98788816 -779.56208225\n",
      "  544.33944235   58.58913796  152.32275888  725.21127264   59.94541782]\n",
      "151.64833302585583\n"
     ]
    }
   ],
   "source": [
    "rd.fit(X_train,y_train)\n",
    "y_pred=rd.predict(X_test)\n",
    "print(r2_score(y_test,y_pred))\n",
    "print(rd.coef_)\n",
    "print(rd.intercept_)"
   ]
  },
  {
   "cell_type": "markdown",
   "id": "1fb44693",
   "metadata": {},
   "source": [
    "## Chalo Apna Banate hain...."
   ]
  },
  {
   "cell_type": "code",
   "execution_count": 17,
   "id": "bd7736e9",
   "metadata": {},
   "outputs": [],
   "source": [
    "class RGD:\n",
    "    def __init__(self,epochs,learning_rate,alpha):\n",
    "        self.alpha=alpha\n",
    "        self.lr = learning_rate\n",
    "        self.epochs=epochs\n",
    "        self.coef_=None\n",
    "        self.intercept_=None\n",
    "    def fit(self,X_train,y_train):\n",
    "        self.coef_=np.ones(X_train.shape[1])\n",
    "        X_train=np.insert(X_train,0,1,axis=1)\n",
    "        self.intercept_=0\n",
    "        thetha=np.insert(self.coef_,0,self.intercept_)\n",
    "        for i in range(self.epochs):\n",
    "            thetha_der = np.dot(X_train.T,X_train).dot(thetha) - np.dot(X_train.T,y_train) + self.alpha*thetha\n",
    "            thetha = thetha - (self.lr * thetha_der)\n",
    "        self.coef_=thetha[1:]\n",
    "        self.intercept_=thetha[0]\n",
    "        print(self.coef_,self.intercept_)\n",
    "    def predict(self,X_test):\n",
    "        return np.dot(X_test,self.coef_) + self.intercept_"
   ]
  },
  {
   "cell_type": "code",
   "execution_count": 18,
   "id": "f92462bf",
   "metadata": {},
   "outputs": [],
   "source": [
    "my_rgd = RGD(alpha=0.001,learning_rate=0.005,epochs=500)"
   ]
  },
  {
   "cell_type": "code",
   "execution_count": 19,
   "id": "15aa8435",
   "metadata": {},
   "outputs": [
    {
     "name": "stdout",
     "output_type": "stream",
     "text": [
      "[   9.00055924 -186.16022193  470.36211141  318.15197103  -22.59533852\n",
      "  -66.62083125 -216.80502658  140.6521757   369.36427879  113.4878647 ] 151.77246945671033\n"
     ]
    }
   ],
   "source": [
    "my_rgd.fit(X_train,y_train)"
   ]
  },
  {
   "cell_type": "code",
   "execution_count": 20,
   "id": "45a463c9",
   "metadata": {},
   "outputs": [],
   "source": [
    "y_pred=my_rgd.predict(X_test)"
   ]
  },
  {
   "cell_type": "code",
   "execution_count": 21,
   "id": "ed2eafc9",
   "metadata": {},
   "outputs": [
    {
     "data": {
      "text/plain": [
       "0.413063436748194"
      ]
     },
     "execution_count": 21,
     "metadata": {},
     "output_type": "execute_result"
    }
   ],
   "source": [
    "r2_score(y_test,y_pred)"
   ]
  }
 ],
 "metadata": {
  "kernelspec": {
   "display_name": "Python 3",
   "language": "python",
   "name": "python3"
  },
  "language_info": {
   "codemirror_mode": {
    "name": "ipython",
    "version": 3
   },
   "file_extension": ".py",
   "mimetype": "text/x-python",
   "name": "python",
   "nbconvert_exporter": "python",
   "pygments_lexer": "ipython3",
   "version": "3.8.8"
  }
 },
 "nbformat": 4,
 "nbformat_minor": 5
}
