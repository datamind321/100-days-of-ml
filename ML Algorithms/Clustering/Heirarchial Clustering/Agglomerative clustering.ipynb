{
 "cells": [
  {
   "cell_type": "code",
   "execution_count": 14,
   "id": "d343e031",
   "metadata": {},
   "outputs": [],
   "source": [
    "import numpy as np\n",
    "import pandas as pd\n",
    "import matplotlib.pyplot as plt"
   ]
  },
  {
   "cell_type": "code",
   "execution_count": 15,
   "id": "35021cfb",
   "metadata": {},
   "outputs": [
    {
     "data": {
      "text/html": [
       "<div>\n",
       "<style scoped>\n",
       "    .dataframe tbody tr th:only-of-type {\n",
       "        vertical-align: middle;\n",
       "    }\n",
       "\n",
       "    .dataframe tbody tr th {\n",
       "        vertical-align: top;\n",
       "    }\n",
       "\n",
       "    .dataframe thead th {\n",
       "        text-align: right;\n",
       "    }\n",
       "</style>\n",
       "<table border=\"1\" class=\"dataframe\">\n",
       "  <thead>\n",
       "    <tr style=\"text-align: right;\">\n",
       "      <th></th>\n",
       "      <th>CustomerID</th>\n",
       "      <th>Genre</th>\n",
       "      <th>Age</th>\n",
       "      <th>Annual Income (k$)</th>\n",
       "      <th>Spending Score (1-100)</th>\n",
       "    </tr>\n",
       "  </thead>\n",
       "  <tbody>\n",
       "    <tr>\n",
       "      <th>0</th>\n",
       "      <td>1</td>\n",
       "      <td>Male</td>\n",
       "      <td>19</td>\n",
       "      <td>15</td>\n",
       "      <td>39</td>\n",
       "    </tr>\n",
       "    <tr>\n",
       "      <th>1</th>\n",
       "      <td>2</td>\n",
       "      <td>Male</td>\n",
       "      <td>21</td>\n",
       "      <td>15</td>\n",
       "      <td>81</td>\n",
       "    </tr>\n",
       "    <tr>\n",
       "      <th>2</th>\n",
       "      <td>3</td>\n",
       "      <td>Female</td>\n",
       "      <td>20</td>\n",
       "      <td>16</td>\n",
       "      <td>6</td>\n",
       "    </tr>\n",
       "    <tr>\n",
       "      <th>3</th>\n",
       "      <td>4</td>\n",
       "      <td>Female</td>\n",
       "      <td>23</td>\n",
       "      <td>16</td>\n",
       "      <td>77</td>\n",
       "    </tr>\n",
       "    <tr>\n",
       "      <th>4</th>\n",
       "      <td>5</td>\n",
       "      <td>Female</td>\n",
       "      <td>31</td>\n",
       "      <td>17</td>\n",
       "      <td>40</td>\n",
       "    </tr>\n",
       "  </tbody>\n",
       "</table>\n",
       "</div>"
      ],
      "text/plain": [
       "   CustomerID   Genre  Age  Annual Income (k$)  Spending Score (1-100)\n",
       "0           1    Male   19                  15                      39\n",
       "1           2    Male   21                  15                      81\n",
       "2           3  Female   20                  16                       6\n",
       "3           4  Female   23                  16                      77\n",
       "4           5  Female   31                  17                      40"
      ]
     },
     "execution_count": 15,
     "metadata": {},
     "output_type": "execute_result"
    }
   ],
   "source": [
    "df = pd.read_csv('hierarchical-clustering-with-python-and-scikit-learn-shopping-data.csv')\n",
    "df.head()"
   ]
  },
  {
   "cell_type": "code",
   "execution_count": 16,
   "id": "76437d35",
   "metadata": {},
   "outputs": [
    {
     "data": {
      "text/plain": [
       "(200, 5)"
      ]
     },
     "execution_count": 16,
     "metadata": {},
     "output_type": "execute_result"
    }
   ],
   "source": [
    "df.shape"
   ]
  },
  {
   "cell_type": "code",
   "execution_count": 17,
   "id": "0f61d381",
   "metadata": {},
   "outputs": [],
   "source": [
    "new_df = df.iloc[:,3:5].values"
   ]
  },
  {
   "cell_type": "code",
   "execution_count": 18,
   "id": "eb2d5ed3",
   "metadata": {},
   "outputs": [
    {
     "data": {
      "text/plain": [
       "array([[ 15,  39],\n",
       "       [ 15,  81],\n",
       "       [ 16,   6],\n",
       "       [ 16,  77],\n",
       "       [ 17,  40],\n",
       "       [ 17,  76],\n",
       "       [ 18,   6],\n",
       "       [ 18,  94],\n",
       "       [ 19,   3],\n",
       "       [ 19,  72],\n",
       "       [ 19,  14],\n",
       "       [ 19,  99],\n",
       "       [ 20,  15],\n",
       "       [ 20,  77],\n",
       "       [ 20,  13],\n",
       "       [ 20,  79],\n",
       "       [ 21,  35],\n",
       "       [ 21,  66],\n",
       "       [ 23,  29],\n",
       "       [ 23,  98],\n",
       "       [ 24,  35],\n",
       "       [ 24,  73],\n",
       "       [ 25,   5],\n",
       "       [ 25,  73],\n",
       "       [ 28,  14],\n",
       "       [ 28,  82],\n",
       "       [ 28,  32],\n",
       "       [ 28,  61],\n",
       "       [ 29,  31],\n",
       "       [ 29,  87],\n",
       "       [ 30,   4],\n",
       "       [ 30,  73],\n",
       "       [ 33,   4],\n",
       "       [ 33,  92],\n",
       "       [ 33,  14],\n",
       "       [ 33,  81],\n",
       "       [ 34,  17],\n",
       "       [ 34,  73],\n",
       "       [ 37,  26],\n",
       "       [ 37,  75],\n",
       "       [ 38,  35],\n",
       "       [ 38,  92],\n",
       "       [ 39,  36],\n",
       "       [ 39,  61],\n",
       "       [ 39,  28],\n",
       "       [ 39,  65],\n",
       "       [ 40,  55],\n",
       "       [ 40,  47],\n",
       "       [ 40,  42],\n",
       "       [ 40,  42],\n",
       "       [ 42,  52],\n",
       "       [ 42,  60],\n",
       "       [ 43,  54],\n",
       "       [ 43,  60],\n",
       "       [ 43,  45],\n",
       "       [ 43,  41],\n",
       "       [ 44,  50],\n",
       "       [ 44,  46],\n",
       "       [ 46,  51],\n",
       "       [ 46,  46],\n",
       "       [ 46,  56],\n",
       "       [ 46,  55],\n",
       "       [ 47,  52],\n",
       "       [ 47,  59],\n",
       "       [ 48,  51],\n",
       "       [ 48,  59],\n",
       "       [ 48,  50],\n",
       "       [ 48,  48],\n",
       "       [ 48,  59],\n",
       "       [ 48,  47],\n",
       "       [ 49,  55],\n",
       "       [ 49,  42],\n",
       "       [ 50,  49],\n",
       "       [ 50,  56],\n",
       "       [ 54,  47],\n",
       "       [ 54,  54],\n",
       "       [ 54,  53],\n",
       "       [ 54,  48],\n",
       "       [ 54,  52],\n",
       "       [ 54,  42],\n",
       "       [ 54,  51],\n",
       "       [ 54,  55],\n",
       "       [ 54,  41],\n",
       "       [ 54,  44],\n",
       "       [ 54,  57],\n",
       "       [ 54,  46],\n",
       "       [ 57,  58],\n",
       "       [ 57,  55],\n",
       "       [ 58,  60],\n",
       "       [ 58,  46],\n",
       "       [ 59,  55],\n",
       "       [ 59,  41],\n",
       "       [ 60,  49],\n",
       "       [ 60,  40],\n",
       "       [ 60,  42],\n",
       "       [ 60,  52],\n",
       "       [ 60,  47],\n",
       "       [ 60,  50],\n",
       "       [ 61,  42],\n",
       "       [ 61,  49],\n",
       "       [ 62,  41],\n",
       "       [ 62,  48],\n",
       "       [ 62,  59],\n",
       "       [ 62,  55],\n",
       "       [ 62,  56],\n",
       "       [ 62,  42],\n",
       "       [ 63,  50],\n",
       "       [ 63,  46],\n",
       "       [ 63,  43],\n",
       "       [ 63,  48],\n",
       "       [ 63,  52],\n",
       "       [ 63,  54],\n",
       "       [ 64,  42],\n",
       "       [ 64,  46],\n",
       "       [ 65,  48],\n",
       "       [ 65,  50],\n",
       "       [ 65,  43],\n",
       "       [ 65,  59],\n",
       "       [ 67,  43],\n",
       "       [ 67,  57],\n",
       "       [ 67,  56],\n",
       "       [ 67,  40],\n",
       "       [ 69,  58],\n",
       "       [ 69,  91],\n",
       "       [ 70,  29],\n",
       "       [ 70,  77],\n",
       "       [ 71,  35],\n",
       "       [ 71,  95],\n",
       "       [ 71,  11],\n",
       "       [ 71,  75],\n",
       "       [ 71,   9],\n",
       "       [ 71,  75],\n",
       "       [ 72,  34],\n",
       "       [ 72,  71],\n",
       "       [ 73,   5],\n",
       "       [ 73,  88],\n",
       "       [ 73,   7],\n",
       "       [ 73,  73],\n",
       "       [ 74,  10],\n",
       "       [ 74,  72],\n",
       "       [ 75,   5],\n",
       "       [ 75,  93],\n",
       "       [ 76,  40],\n",
       "       [ 76,  87],\n",
       "       [ 77,  12],\n",
       "       [ 77,  97],\n",
       "       [ 77,  36],\n",
       "       [ 77,  74],\n",
       "       [ 78,  22],\n",
       "       [ 78,  90],\n",
       "       [ 78,  17],\n",
       "       [ 78,  88],\n",
       "       [ 78,  20],\n",
       "       [ 78,  76],\n",
       "       [ 78,  16],\n",
       "       [ 78,  89],\n",
       "       [ 78,   1],\n",
       "       [ 78,  78],\n",
       "       [ 78,   1],\n",
       "       [ 78,  73],\n",
       "       [ 79,  35],\n",
       "       [ 79,  83],\n",
       "       [ 81,   5],\n",
       "       [ 81,  93],\n",
       "       [ 85,  26],\n",
       "       [ 85,  75],\n",
       "       [ 86,  20],\n",
       "       [ 86,  95],\n",
       "       [ 87,  27],\n",
       "       [ 87,  63],\n",
       "       [ 87,  13],\n",
       "       [ 87,  75],\n",
       "       [ 87,  10],\n",
       "       [ 87,  92],\n",
       "       [ 88,  13],\n",
       "       [ 88,  86],\n",
       "       [ 88,  15],\n",
       "       [ 88,  69],\n",
       "       [ 93,  14],\n",
       "       [ 93,  90],\n",
       "       [ 97,  32],\n",
       "       [ 97,  86],\n",
       "       [ 98,  15],\n",
       "       [ 98,  88],\n",
       "       [ 99,  39],\n",
       "       [ 99,  97],\n",
       "       [101,  24],\n",
       "       [101,  68],\n",
       "       [103,  17],\n",
       "       [103,  85],\n",
       "       [103,  23],\n",
       "       [103,  69],\n",
       "       [113,   8],\n",
       "       [113,  91],\n",
       "       [120,  16],\n",
       "       [120,  79],\n",
       "       [126,  28],\n",
       "       [126,  74],\n",
       "       [137,  18],\n",
       "       [137,  83]], dtype=int64)"
      ]
     },
     "execution_count": 18,
     "metadata": {},
     "output_type": "execute_result"
    }
   ],
   "source": [
    "new_df"
   ]
  },
  {
   "cell_type": "code",
   "execution_count": 19,
   "id": "ba0c459e",
   "metadata": {},
   "outputs": [
    {
     "data": {
      "image/png": "[encoded data removed]",
      "text/plain": [
       "<Figure size 720x504 with 1 Axes>"
      ]
     },
     "metadata": {
      "needs_background": "light"
     },
     "output_type": "display_data"
    }
   ],
   "source": [
    "import scipy.cluster.hierarchy as shc\n",
    "plt.figure(figsize=(10,7))\n",
    "plt.title(\"Customer Dendograms\")\n",
    "dend = shc.dendrogram(shc.linkage(new_df,method='ward'))"
   ]
  },
  {
   "cell_type": "code",
   "execution_count": 20,
   "id": "43d9e4aa",
   "metadata": {},
   "outputs": [],
   "source": [
    "from sklearn.cluster import AgglomerativeClustering , DBSCAN\n",
    "cluster=AgglomerativeClustering(n_clusters=5,affinity='euclidean',linkage='ward')\n",
    "labels = cluster.fit_predict(new_df)"
   ]
  },
  {
   "cell_type": "code",
   "execution_count": 21,
   "id": "c123e26a",
   "metadata": {},
   "outputs": [
    {
     "data": {
      "text/plain": [
       "array([4, 3, 4, 3, 4, 3, 4, 3, 4, 3, 4, 3, 4, 3, 4, 3, 4, 3, 4, 3, 4, 3,\n",
       "       4, 3, 4, 3, 4, 3, 4, 3, 4, 3, 4, 3, 4, 3, 4, 3, 4, 3, 4, 3, 4, 1,\n",
       "       4, 1, 1, 1, 1, 1, 1, 1, 1, 1, 1, 1, 1, 1, 1, 1, 1, 1, 1, 1, 1, 1,\n",
       "       1, 1, 1, 1, 1, 1, 1, 1, 1, 1, 1, 1, 1, 1, 1, 1, 1, 1, 1, 1, 1, 1,\n",
       "       1, 1, 1, 1, 1, 1, 1, 1, 1, 1, 1, 1, 1, 1, 1, 1, 1, 1, 1, 1, 1, 1,\n",
       "       1, 1, 1, 1, 1, 1, 1, 1, 1, 1, 1, 1, 1, 2, 1, 2, 1, 2, 0, 2, 0, 2,\n",
       "       1, 2, 0, 2, 0, 2, 0, 2, 0, 2, 1, 2, 0, 2, 1, 2, 0, 2, 0, 2, 0, 2,\n",
       "       0, 2, 0, 2, 0, 2, 1, 2, 0, 2, 0, 2, 0, 2, 0, 2, 0, 2, 0, 2, 0, 2,\n",
       "       0, 2, 0, 2, 0, 2, 0, 2, 0, 2, 0, 2, 0, 2, 0, 2, 0, 2, 0, 2, 0, 2,\n",
       "       0, 2], dtype=int64)"
      ]
     },
     "execution_count": 21,
     "metadata": {},
     "output_type": "execute_result"
    }
   ],
   "source": [
    "labels"
   ]
  },
  {
   "cell_type": "code",
   "execution_count": 22,
   "id": "67d99572",
   "metadata": {
    "scrolled": true
   },
   "outputs": [
    {
     "data": {
      "text/plain": [
       "<matplotlib.collections.PathCollection at 0x1d3725bdfd0>"
      ]
     },
     "execution_count": 22,
     "metadata": {},
     "output_type": "execute_result"
    },
    {
     "data": {
      "image/png": "[encoded data removed]",
      "text/plain": [
       "<Figure size 432x288 with 1 Axes>"
      ]
     },
     "metadata": {
      "needs_background": "light"
     },
     "output_type": "display_data"
    }
   ],
   "source": [
    "plt.scatter(new_df[:,0],new_df[:,1],c=cluster.labels_,cmap='rainbow')"
   ]
  }
 ],
 "metadata": {
  "kernelspec": {
   "display_name": "Python 3",
   "language": "python",
   "name": "python3"
  },
  "language_info": {
   "codemirror_mode": {
    "name": "ipython",
    "version": 3
   },
   "file_extension": ".py",
   "mimetype": "text/x-python",
   "name": "python",
   "nbconvert_exporter": "python",
   "pygments_lexer": "ipython3",
   "version": "3.8.8"
  }
 },
 "nbformat": 4,
 "nbformat_minor": 5
}
